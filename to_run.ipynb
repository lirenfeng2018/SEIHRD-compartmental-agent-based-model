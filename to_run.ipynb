{
 "cells": [
  {
   "cell_type": "markdown",
   "metadata": {
    "scrolled": true
   },
   "source": [
    "# Without running the %pylab inline command, it won't be able to show the plots.\n",
    "\n",
    "# Here a guideline to choose the parameters of the model:\n",
    "\n",
    "All the parameters (infection rate, recovery rate, exposed rate, hospitalized-to-recovered rate, hospitalized-to-dead rate, mortality rate, immunization rate) must be between 0 and 1. \n",
    "Recovery rate, exposed rate, hospitalized-to-recovered rate, hospitalized-to-dead rate are all inverse of duration periods, once that period is chosen the related parameter is obtained (ex. 10 day needed be hospitalized after infection, than the recovery rate is 0.1).\n",
    "\n",
    "Values to test the model on a 1000 nodes network was: \n",
    "\n",
    "Infection rate [0.5,0.7]\n",
    "\n",
    "Recovery rate [0.1,0.3]\n",
    "\n",
    "exposed rate [0.1,0.4]\n",
    "\n",
    "hospitalized-to-recovered rate [0.025,0.05]\n",
    "\n",
    "hospitalized-to-dead rate [0.01,0.03]\n",
    "\n",
    "mortality rate [0.05,0.2]\n",
    "\n",
    "immunization rate [0.05,0.2]"
   ]
  },
  {
   "cell_type": "code",
   "execution_count": null,
   "metadata": {},
   "outputs": [],
   "source": [
    "% pylab inline"
   ]
  },
  {
   "cell_type": "code",
   "execution_count": null,
   "metadata": {
    "scrolled": true
   },
   "outputs": [],
   "source": [
    "run simulation.py "
   ]
  }
 ],
 "metadata": {
  "kernelspec": {
   "display_name": "Python 2",
   "language": "python",
   "name": "python2"
  },
  "language_info": {
   "codemirror_mode": {
    "name": "ipython",
    "version": 2
   },
   "file_extension": ".py",
   "mimetype": "text/x-python",
   "name": "python",
   "nbconvert_exporter": "python",
   "pygments_lexer": "ipython2",
   "version": "2.7.16"
  }
 },
 "nbformat": 4,
 "nbformat_minor": 2
}
