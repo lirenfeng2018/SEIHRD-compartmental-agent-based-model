{
 "cells": [
  {
   "cell_type": "markdown",
   "metadata": {},
   "source": [
    "# SEIHRD-compartmental-agent-based-model\n",
    "This code written in Python2 simulate an SEIRD (Susceptible-Exposed-Infected-Hospitalized-Recovered or Dead) epidemic model \n",
    "with immunization process on a Scale Free network.\n",
    "\n",
    "The network is built with the Barabási-Albert model and nodes are set as agents.\n",
    "\n",
    "Varying the parameters of the model different epidemic scenarios can be explored and the effect of a random immunization process can be tested.\n",
    "\n",
    "Each node can change is state due to a spontaneous transition which occours after a certain time or due to an \n",
    "interaction with an infected node.\n",
    "\n",
    "All the parameters are inserted by the user at the beginning of the simulation. The state of the nodes and epidemic progression is shown."
   ]
  },
  {
   "cell_type": "markdown",
   "metadata": {},
   "source": [
    "# Without running the %pylab inline command, it won't be able to show the plots.\n",
    "\n",
    "# Here a guideline to choose the parameters of the model:\n",
    "\n",
    "All the parameters (infection rate, recovery rate, exposed rate, hospitalized-to-recovered rate, hospitalized-to-dead rate, mortality rate, immunization rate) must be between 0 and 1. \n",
    "Recovery rate, exposed rate, hospitalized-to-recovered rate, hospitalized-to-dead rate are all inverse of duration periods, once that period is chosen the related parameter is set (ex. 10 day needed be hospitalized after infection, than the recovery rate is set to 0.1).\n",
    "\n",
    "Values to test the model on a 1000 nodes network was: \n",
    "\n",
    "Infection rate [0.5,0.7]\n",
    "\n",
    "Recovery rate [0.1,0.3]\n",
    "\n",
    "exposed rate [0.1,0.4]\n",
    "\n",
    "hospitalized-to-recovered rate [0.025,0.05]\n",
    "\n",
    "hospitalized-to-dead rate [0.01,0.03]\n",
    "\n",
    "mortality rate [0.05,0.2]\n",
    "\n",
    "immunization rate [0.05,0.2]"
   ]
  },
  {
   "cell_type": "code",
   "execution_count": null,
   "metadata": {},
   "outputs": [],
   "source": [
    "%pylab inline"
   ]
  },
  {
   "cell_type": "code",
   "execution_count": null,
   "metadata": {},
   "outputs": [],
   "source": [
    "run simulation.py"
   ]
  }
 ],
 "metadata": {
  "kernelspec": {
   "display_name": "Python 2",
   "language": "python",
   "name": "python2"
  },
  "language_info": {
   "codemirror_mode": {
    "name": "ipython",
    "version": 2
   },
   "file_extension": ".py",
   "mimetype": "text/x-python",
   "name": "python",
   "nbconvert_exporter": "python",
   "pygments_lexer": "ipython2",
   "version": "2.7.16"
  }
 },
 "nbformat": 4,
 "nbformat_minor": 2
}
